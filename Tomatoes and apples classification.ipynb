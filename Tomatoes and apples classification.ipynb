{
  "cells": [
    {
      "cell_type": "code",
      "execution_count": null,
      "metadata": {
        "id": "IuJPH_egn3Iu"
      },
      "outputs": [],
      "source": [
        "# Nama: Bernard Hugo\n",
        "# NIM: 2540124450\n",
        "# Kelas: LA05\n",
        "\n",
        "# GSLC Deep Learning Sesi 1\n",
        "# Nomor 2"
      ]
    },
    {
      "cell_type": "markdown",
      "metadata": {},
      "source": [
        "Link dataset: https://www.kaggle.com/datasets/samuelcortinhas/apples-or-tomatoes-image-classification"
      ]
    },
    {
      "cell_type": "code",
      "execution_count": null,
      "metadata": {
        "id": "LbEukm2Lcg2n"
      },
      "outputs": [],
      "source": [
        "import tensorflow as tf\n",
        "from tensorflow import keras\n",
        "from tensorflow.python.keras.layers import Dense, Flatten\n",
        "from tensorflow.keras.models import Sequential\n",
        "from tensorflow.keras.optimizers import Adam\n",
        "import matplotlib.pyplot as plt"
      ]
    },
    {
      "cell_type": "code",
      "execution_count": null,
      "metadata": {
        "colab": {
          "base_uri": "https://localhost:8080/"
        },
        "id": "HcD0g0cMcjjG",
        "outputId": "521e672f-9ead-4eb2-dbd2-5af128b99343"
      },
      "outputs": [
        {
          "name": "stdout",
          "output_type": "stream",
          "text": [
            "Mounted at /content/drive\n"
          ]
        }
      ],
      "source": [
        "from google.colab import drive\n",
        "drive.mount('/content/drive')"
      ]
    },
    {
      "cell_type": "code",
      "execution_count": null,
      "metadata": {
        "colab": {
          "base_uri": "https://localhost:8080/"
        },
        "id": "MC1LuFS6cjlp",
        "outputId": "92f403bb-0cfd-45c7-d510-9de61257f7e9"
      },
      "outputs": [
        {
          "name": "stdout",
          "output_type": "stream",
          "text": [
            "Found 294 files belonging to 2 classes.\n",
            "Using 236 files for training.\n"
          ]
        }
      ],
      "source": [
        "train_data = tf.keras.preprocessing.image_dataset_from_directory(\"drive/MyDrive/tomatoes_or_apples/train\", validation_split = 0.2,\n",
        "                                                                 subset = \"training\", seed = 123, image_size = (200, 200), batch_size = 32)"
      ]
    },
    {
      "cell_type": "code",
      "execution_count": null,
      "metadata": {
        "colab": {
          "base_uri": "https://localhost:8080/"
        },
        "id": "dakwkmtcwUuE",
        "outputId": "8fc4d4b3-e1af-4f3a-ca75-903f27fb4ac3"
      },
      "outputs": [
        {
          "name": "stdout",
          "output_type": "stream",
          "text": [
            "Found 294 files belonging to 2 classes.\n",
            "Using 58 files for validation.\n"
          ]
        }
      ],
      "source": [
        "val_data = tf.keras.preprocessing.image_dataset_from_directory(\"drive/MyDrive/tomatoes_or_apples/train\", validation_split = 0.2,\n",
        "                                                               subset = \"validation\", seed = 123, image_size = (200, 200), batch_size = 32)"
      ]
    },
    {
      "cell_type": "code",
      "execution_count": null,
      "metadata": {
        "colab": {
          "base_uri": "https://localhost:8080/"
        },
        "id": "q_NAUnixcjoC",
        "outputId": "76c98e09-06b2-4ea3-e041-4684bb865de0"
      },
      "outputs": [
        {
          "name": "stdout",
          "output_type": "stream",
          "text": [
            "Found 97 files belonging to 2 classes.\n"
          ]
        }
      ],
      "source": [
        "test_data = tf.keras.preprocessing.image_dataset_from_directory(\"drive/MyDrive/tomatoes_or_apples/test\", image_size = (200, 200), batch_size = 32)"
      ]
    },
    {
      "cell_type": "code",
      "execution_count": null,
      "metadata": {
        "colab": {
          "base_uri": "https://localhost:8080/"
        },
        "id": "lN5GpPu4cjtG",
        "outputId": "4f051d92-b1cb-4453-c035-88e547c83ded"
      },
      "outputs": [
        {
          "name": "stdout",
          "output_type": "stream",
          "text": [
            "Downloading data from https://storage.googleapis.com/tensorflow/keras-applications/resnet/resnet50_weights_tf_dim_ordering_tf_kernels_notop.h5\n",
            "94765736/94765736 [==============================] - 0s 0us/step\n"
          ]
        }
      ],
      "source": [
        "pretrained_model= tf.keras.applications.ResNet50(include_top = False, input_shape = (200, 200, 3), weights = 'imagenet', pooling = 'avg')\n",
        "\n",
        "for layer in pretrained_model.layers:\n",
        "        layer.trainable = False\n",
        "\n",
        "model = Sequential([ pretrained_model,\n",
        "                     Flatten(),\n",
        "                     Dense(64, activation = 'relu'),\n",
        "                     Dense(1, activation = 'sigmoid')\n",
        "                   ])"
      ]
    },
    {
      "cell_type": "code",
      "execution_count": null,
      "metadata": {
        "colab": {
          "base_uri": "https://localhost:8080/"
        },
        "id": "CnnLPCJXcjv1",
        "outputId": "4b27af4e-1b1e-443d-c0d0-74f613c0de2a"
      },
      "outputs": [
        {
          "name": "stdout",
          "output_type": "stream",
          "text": [
            "Model: \"sequential\"\n",
            "_________________________________________________________________\n",
            " Layer (type)                Output Shape              Param #   \n",
            "=================================================================\n",
            " resnet50 (Functional)       (None, 2048)              23587712  \n",
            "                                                                 \n",
            " module_wrapper (ModuleWrap  (None, 2048)              0         \n",
            " per)                                                            \n",
            "                                                                 \n",
            " module_wrapper_1 (ModuleWr  (None, 64)                131136    \n",
            " apper)                                                          \n",
            "                                                                 \n",
            " module_wrapper_2 (ModuleWr  (None, 1)                 65        \n",
            " apper)                                                          \n",
            "                                                                 \n",
            "=================================================================\n",
            "Total params: 23718913 (90.48 MB)\n",
            "Trainable params: 131201 (512.50 KB)\n",
            "Non-trainable params: 23587712 (89.98 MB)\n",
            "_________________________________________________________________\n"
          ]
        }
      ],
      "source": [
        "model.summary()"
      ]
    },
    {
      "cell_type": "code",
      "execution_count": null,
      "metadata": {
        "id": "xeCId821dKbM"
      },
      "outputs": [],
      "source": [
        "model.compile(optimizer = Adam(learning_rate = 0.001), loss = 'binary_crossentropy', metrics = ['accuracy'])"
      ]
    },
    {
      "cell_type": "code",
      "execution_count": null,
      "metadata": {
        "colab": {
          "base_uri": "https://localhost:8080/"
        },
        "id": "Bk_g6WacdKda",
        "outputId": "33396b9d-09e8-476e-fca2-ce0056a0fa53"
      },
      "outputs": [
        {
          "name": "stdout",
          "output_type": "stream",
          "text": [
            "Epoch 1/15\n",
            "8/8 [==============================] - 102s 8s/step - loss: 0.6139 - accuracy: 0.6695 - val_loss: 0.3885 - val_accuracy: 0.8621\n",
            "Epoch 2/15\n",
            "8/8 [==============================] - 50s 6s/step - loss: 0.2609 - accuracy: 0.8941 - val_loss: 0.3701 - val_accuracy: 0.8448\n",
            "Epoch 3/15\n",
            "8/8 [==============================] - 47s 6s/step - loss: 0.1605 - accuracy: 0.9534 - val_loss: 0.3022 - val_accuracy: 0.8966\n",
            "Epoch 4/15\n",
            "8/8 [==============================] - 51s 6s/step - loss: 0.1054 - accuracy: 0.9703 - val_loss: 0.3185 - val_accuracy: 0.8793\n",
            "Epoch 5/15\n",
            "8/8 [==============================] - 57s 8s/step - loss: 0.0718 - accuracy: 0.9873 - val_loss: 0.3077 - val_accuracy: 0.8966\n",
            "Epoch 6/15\n",
            "8/8 [==============================] - 48s 6s/step - loss: 0.0568 - accuracy: 0.9915 - val_loss: 0.3022 - val_accuracy: 0.9138\n",
            "Epoch 7/15\n",
            "8/8 [==============================] - 49s 6s/step - loss: 0.0405 - accuracy: 0.9958 - val_loss: 0.3129 - val_accuracy: 0.9138\n",
            "Epoch 8/15\n",
            "8/8 [==============================] - 49s 6s/step - loss: 0.0380 - accuracy: 0.9958 - val_loss: 0.3135 - val_accuracy: 0.8966\n",
            "Epoch 9/15\n",
            "8/8 [==============================] - 49s 6s/step - loss: 0.0276 - accuracy: 1.0000 - val_loss: 0.3208 - val_accuracy: 0.9310\n",
            "Epoch 10/15\n",
            "8/8 [==============================] - 51s 6s/step - loss: 0.0197 - accuracy: 1.0000 - val_loss: 0.3271 - val_accuracy: 0.9310\n",
            "Epoch 11/15\n",
            "8/8 [==============================] - 47s 6s/step - loss: 0.0170 - accuracy: 1.0000 - val_loss: 0.3254 - val_accuracy: 0.9310\n",
            "Epoch 12/15\n",
            "8/8 [==============================] - 50s 6s/step - loss: 0.0144 - accuracy: 1.0000 - val_loss: 0.3353 - val_accuracy: 0.8966\n",
            "Epoch 13/15\n",
            "8/8 [==============================] - 52s 7s/step - loss: 0.0126 - accuracy: 1.0000 - val_loss: 0.3415 - val_accuracy: 0.8966\n",
            "Epoch 14/15\n",
            "8/8 [==============================] - 61s 8s/step - loss: 0.0115 - accuracy: 1.0000 - val_loss: 0.3462 - val_accuracy: 0.8966\n",
            "Epoch 15/15\n",
            "8/8 [==============================] - 58s 8s/step - loss: 0.0100 - accuracy: 1.0000 - val_loss: 0.3483 - val_accuracy: 0.8966\n"
          ]
        }
      ],
      "source": [
        "train_model = model.fit(train_data, validation_data = val_data, epochs = 15)"
      ]
    },
    {
      "cell_type": "code",
      "execution_count": null,
      "metadata": {
        "colab": {
          "base_uri": "https://localhost:8080/",
          "height": 472
        },
        "id": "aud1zFx5dmWr",
        "outputId": "f15bd5ff-de36-4796-cb32-dfc8a4dfc02a"
      },
      "outputs": [
        {
          "data": {
            "image/png": "[encoded data removed]",
            "text/plain": [
              "<Figure size 640x480 with 1 Axes>"
            ]
          },
          "metadata": {},
          "output_type": "display_data"
        }
      ],
      "source": [
        "plt.plot(train_model.history['accuracy'])\n",
        "plt.plot(train_model.history['val_accuracy'])\n",
        "plt.title('Model Accuracy')\n",
        "plt.ylabel('Accuracy')\n",
        "plt.xlabel('Epoch')\n",
        "plt.legend(['train', 'validation'])\n",
        "plt.show()"
      ]
    },
    {
      "cell_type": "code",
      "execution_count": null,
      "metadata": {
        "colab": {
          "base_uri": "https://localhost:8080/",
          "height": 472
        },
        "id": "eYZ5mL9AeBrs",
        "outputId": "5c81e27e-2b6e-43ae-abb1-310dde9ca888"
      },
      "outputs": [
        {
          "data": {
            "image/png": "[encoded data removed]",
            "text/plain": [
              "<Figure size 640x480 with 1 Axes>"
            ]
          },
          "metadata": {},
          "output_type": "display_data"
        }
      ],
      "source": [
        "plt.plot(train_model.history['loss'])\n",
        "plt.plot(train_model.history['val_loss'])\n",
        "plt.title('Model Loss')\n",
        "plt.ylabel('Loss')\n",
        "plt.xlabel('Epoch')\n",
        "plt.legend(['train', 'validation'])\n",
        "plt.show()"
      ]
    },
    {
      "cell_type": "markdown",
      "metadata": {
        "id": "S0ZsRzCqT5gF"
      },
      "source": [
        "Dari hasil kedua visualisasi grafik, dapat dilihat bahwa pada Model Accuracy bagian training menaik dan telah mencapai titik angka maksimal yaitu 1. Sedangkan, validation mencapai angka maksimal sebesar 0.9310 dari epoch 9 sampai epoch ke-11. Pada Model Loss, training mengalami penurunan loss hingga mencapai angka 0.01 sedangkan validation mengalami turun naik pada beberapa epoch dimana nilai loss terkecil adalah 0.3022 di epoch ke-6 dan nilai loss pada epoch terakhir sebesar 0.3483."
      ]
    },
    {
      "cell_type": "code",
      "execution_count": null,
      "metadata": {
        "colab": {
          "base_uri": "https://localhost:8080/"
        },
        "id": "aOH8Plw3dKjZ",
        "outputId": "01cf026f-9b2c-492a-ae4d-a84d9e6ef0a6"
      },
      "outputs": [
        {
          "name": "stdout",
          "output_type": "stream",
          "text": [
            "4/4 [==============================] - 27s 3s/step - loss: 0.1786 - accuracy: 0.9175\n"
          ]
        },
        {
          "data": {
            "text/plain": [
              "[0.17864583432674408, 0.9175257682800293]"
            ]
          },
          "execution_count": 14,
          "metadata": {},
          "output_type": "execute_result"
        }
      ],
      "source": [
        "model.evaluate(test_data)"
      ]
    },
    {
      "cell_type": "code",
      "execution_count": null,
      "metadata": {
        "colab": {
          "base_uri": "https://localhost:8080/"
        },
        "id": "htT_GxM43z6j",
        "outputId": "2e2d69c2-8082-4389-a3a5-8eceba530526"
      },
      "outputs": [
        {
          "name": "stdout",
          "output_type": "stream",
          "text": [
            "4/4 [==============================] - 16s 4s/step - loss: 0.1786 - accuracy: 0.9175\n",
            "Accuracy: 0.9175\n",
            "Loss: 0.1786\n"
          ]
        }
      ],
      "source": [
        "eval_model = model.evaluate(test_data)\n",
        "\n",
        "print(f'Accuracy: {eval_model[1] :.4f}')\n",
        "print(f'Loss: {eval_model[0] :.4f}')"
      ]
    },
    {
      "cell_type": "code",
      "execution_count": null,
      "metadata": {
        "id": "c84b04cb",
        "outputId": "c6a4a6c0-0f98-4995-b125-3a0ced92b1a0"
      },
      "outputs": [
        {
          "name": "stdout",
          "output_type": "stream",
          "text": [
            "1/1 [==============================] - 0s 218ms/step\n",
            "[[0.998996]]\n",
            "1/1 [==============================] - 0s 47ms/step\n",
            "[[0.00117946]]\n"
          ]
        }
      ],
      "source": [
        "# Prediction preprocessing\n",
        "\n",
        "test_image1 = image.load_img(\"C:/Users/ASUS/Downloads/tomatoes_or_apples/test/tomatoes/img_p3_6.jpeg\", target_size = (64, 64))\n",
        "test_image2 = image.load_img(\"C:/Users/ASUS/Downloads/tomatoes_or_apples/test/apples/img_p2_84.jpeg\", target_size = (64, 64))\n",
        "\n",
        "test_image1 = image.img_to_array(test_image1)\n",
        "test_image2 = image.img_to_array(test_image2)\n",
        "\n",
        "test_image1 = np.expand_dims(test_image1, axis = 0)\n",
        "test_image2 = np.expand_dims(test_image2, axis = 0)\n",
        "\n",
        "# Make predictions on two images\n",
        "\n",
        "print(model.predict(test_image1))\n",
        "\n",
        "print(model.predict(test_image2))"
      ]
    },
    {
      "cell_type": "code",
      "execution_count": null,
      "metadata": {
        "id": "7966cc5f",
        "outputId": "1994ec08-6918-421d-bdf4-07d2eaa61001"
      },
      "outputs": [
        {
          "name": "stdout",
          "output_type": "stream",
          "text": [
            "1/1 [==============================] - 0s 52ms/step\n",
            "1/1 [==============================] - 0s 64ms/step\n",
            "Image 1 result: tomato\n",
            "\n",
            "Image 2 result: apple\n"
          ]
        }
      ],
      "source": [
        "# Make categorial predictions\n",
        "\n",
        "result1 = model.predict(test_image1)\n",
        "result2 = model.predict(test_image2)\n",
        "\n",
        "if (result1 >= 0.5):\n",
        "    result1 = 'tomato'\n",
        "else:\n",
        "    result1 = 'apple'\n",
        "\n",
        "\n",
        "if (result2 >= 0.5):\n",
        "    result2 = 'tomato'\n",
        "else:\n",
        "    result2 = 'apple'\n",
        "\n",
        "print(f'Image 1 result: {result1}')\n",
        "print()\n",
        "print(f'Image 2 result: {result2}')"
      ]
    },
    {
      "cell_type": "markdown",
      "metadata": {
        "id": "8LCUQhIwN7jK"
      },
      "source": [
        "Dari hasil model training model CNN, dapat dianalisiskan bahwa:\n",
        "\n",
        "Pada epoch pertama, akurasi training berada pada nilai 0.6695 dan loss training berada pada nilai 0.6139. Serta, pada bagian validation memiliki akurasi sebesar 0,8621 dan loss sebesar 0,3885. Dari epoch 1 sampai epoch 15, akurasi untuk training meningkat dan loss-nya menurun serta akurasi untuk validation terkadang mengalami penurunan atau peningkatan di beberapa epoch. Loss untuk validation di epoch-epoch tertentu tetap stabil pada nilai 0.3. Tetapi, akurasi validation terlihat stabil dan agak lebih rendah dibandingkan dengan akurasi training pada epoch-epoch berikutnya. Hal itu terjadi karena overfitting, dimana model mencoba menyesuaikan sampel training secara berlebihan dan berkinerja buruk pada sampel validation. Sehingga, akurasi training menjadi lebih tinggi dibandingkan dengan akurasi validation.\n",
        "\n",
        "Akurasi untuk training telah mencapai nilai maksimum (1) dari epoch 9 hingga epoch 15. Pada validation, nilai akurasi terbesar berada pada epoch 11 dengan nilai sebesar 0.9310. Hal ini menunjukkan bahwa model tersebut telah bekerja dengan baik pada data training dan validation."
      ]
    },
    {
      "cell_type": "markdown",
      "metadata": {
        "id": "f321db4LOXW7"
      },
      "source": [
        "Secara keseluruhan, dapat dikatakan bahwa model CNN telah menunjukkan kinerja yang baik dalam mengklasifikasikan antara tomat (tomatoes) dan apel (apples)."
      ]
    }
  ],
  "metadata": {
    "colab": {
      "provenance": []
    },
    "kernelspec": {
      "display_name": "Python 3",
      "name": "python3"
    },
    "language_info": {
      "name": "python"
    }
  },
  "nbformat": 4,
  "nbformat_minor": 0
}
